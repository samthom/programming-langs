{
 "cells": [
  {
   "cell_type": "markdown",
   "id": "9ea17ea7-ffbc-4465-99e6-24ed0f4f6a88",
   "metadata": {},
   "source": [
    "# Getting started\n",
    "Basics of Julia programming language. "
   ]
  },
  {
   "cell_type": "markdown",
   "id": "489bcef8-cc48-4f33-93a1-3ff90d84fbfa",
   "metadata": {},
   "source": [
    "## Printing a string\n",
    "We can use `println()` to print variables"
   ]
  },
  {
   "cell_type": "code",
   "execution_count": 3,
   "id": "d84bc383-3f56-42cc-b417-498a4fc2bcde",
   "metadata": {},
   "outputs": [
    {
     "name": "stdout",
     "output_type": "stream",
     "text": [
      "Hello World\n"
     ]
    }
   ],
   "source": [
    "println(\"Hello World\")"
   ]
  },
  {
   "cell_type": "markdown",
   "id": "ef5cd210-82b3-4720-970b-3897f0b14885",
   "metadata": {},
   "source": [
    "## How to assign variables\n",
    "All we need is a variable name, value, and an equal's sign! Julia is dynamically typed."
   ]
  },
  {
   "cell_type": "code",
   "execution_count": 5,
   "id": "e6a1e0ba-9f76-42ef-af97-661ff0c4eafe",
   "metadata": {},
   "outputs": [
    {
     "data": {
      "text/plain": [
       "Int64"
      ]
     },
     "execution_count": 5,
     "metadata": {},
     "output_type": "execute_result"
    }
   ],
   "source": [
    "my_answer = 42\n",
    "typeof(my_answer)"
   ]
  },
  {
   "cell_type": "code",
   "execution_count": 6,
   "id": "4b472c86-b1ca-45ed-97f1-66062f452c05",
   "metadata": {},
   "outputs": [
    {
     "data": {
      "text/plain": [
       "Float64"
      ]
     },
     "execution_count": 6,
     "metadata": {},
     "output_type": "execute_result"
    }
   ],
   "source": [
    "my_pi = 3.14159\n",
    "typeof(my_pi)"
   ]
  },
  {
   "cell_type": "code",
   "execution_count": 7,
   "id": "d8929ebc-61ad-49f6-b198-e7ee911afc97",
   "metadata": {},
   "outputs": [
    {
     "data": {
      "text/plain": [
       "String"
      ]
     },
     "execution_count": 7,
     "metadata": {},
     "output_type": "execute_result"
    }
   ],
   "source": [
    "😸 = \"smiley cat!\"\n",
    "typeof(😸)"
   ]
  },
  {
   "cell_type": "markdown",
   "id": "cb8a4075-f482-457a-b14b-79e0b1601d8d",
   "metadata": {},
   "source": [
    "To type a smiley cat, use tab competion to select the emoji name and then tab again."
   ]
  },
  {
   "cell_type": "code",
   "execution_count": null,
   "id": "7cb7e5f5-3328-4cdc-a59b-377086623312",
   "metadata": {},
   "outputs": [],
   "source": [
    "# \\:smi + <tab> --> select with down arrow + <enter> ---> <tab> + <enter> to complete"
   ]
  },
  {
   "cell_type": "markdown",
   "id": "aaeee061-cc22-4585-972e-ab77e661fa8f",
   "metadata": {},
   "source": [
    "After assigning a value to a variable, we can reassign a value of a different type to that variable without any issue."
   ]
  },
  {
   "cell_type": "code",
   "execution_count": 8,
   "id": "93590151-debd-43d4-b6af-0caaa8883d01",
   "metadata": {},
   "outputs": [
    {
     "data": {
      "text/plain": [
       "Int64"
      ]
     },
     "execution_count": 8,
     "metadata": {},
     "output_type": "execute_result"
    }
   ],
   "source": [
    "😸 = 1\n",
    "typeof(😸)"
   ]
  },
  {
   "cell_type": "markdown",
   "id": "ee347bf2-3702-4f31-b689-f018c8f1299f",
   "metadata": {},
   "source": [
    "## How to comment"
   ]
  },
  {
   "cell_type": "code",
   "execution_count": 9,
   "id": "0a38ce2c-df4c-422f-a0c0-d23a187304f3",
   "metadata": {},
   "outputs": [],
   "source": [
    "# You can leave comments on a single line using the pound/hash key"
   ]
  },
  {
   "cell_type": "code",
   "execution_count": 10,
   "id": "72772921-6a4a-40c8-8b0f-71ba9b83515f",
   "metadata": {},
   "outputs": [],
   "source": [
    "#=\n",
    "\n",
    "For multi-line comments\n",
    "use the '#= =#' sequence.\n",
    "\n",
    "=#"
   ]
  },
  {
   "cell_type": "markdown",
   "id": "13f28fa8-983e-48cc-8779-ff081d947b95",
   "metadata": {},
   "source": [
    "## Syntax for basic math"
   ]
  },
  {
   "cell_type": "code",
   "execution_count": 11,
   "id": "31852c45-927a-4827-ab09-19f0116731a4",
   "metadata": {},
   "outputs": [
    {
     "data": {
      "text/plain": [
       "10"
      ]
     },
     "execution_count": 11,
     "metadata": {},
     "output_type": "execute_result"
    }
   ],
   "source": [
    "sum = 3 + 7"
   ]
  },
  {
   "cell_type": "code",
   "execution_count": 1,
   "id": "6b934cd2-c4db-47e6-84d5-12b656888d38",
   "metadata": {},
   "outputs": [
    {
     "data": {
      "text/plain": [
       "7"
      ]
     },
     "execution_count": 1,
     "metadata": {},
     "output_type": "execute_result"
    }
   ],
   "source": [
    "difference = 10 - 3"
   ]
  },
  {
   "cell_type": "code",
   "execution_count": 2,
   "id": "25ead322-7709-4864-bab8-62754de9e2e3",
   "metadata": {},
   "outputs": [
    {
     "data": {
      "text/plain": [
       "100"
      ]
     },
     "execution_count": 2,
     "metadata": {},
     "output_type": "execute_result"
    }
   ],
   "source": [
    "product = 20 * 5"
   ]
  },
  {
   "cell_type": "code",
   "execution_count": 3,
   "id": "3ba9d5b3-fd47-4862-8d34-cbe122074ce5",
   "metadata": {},
   "outputs": [
    {
     "data": {
      "text/plain": [
       "100"
      ]
     },
     "execution_count": 3,
     "metadata": {},
     "output_type": "execute_result"
    }
   ],
   "source": [
    "power = 10 ^ 2"
   ]
  },
  {
   "cell_type": "code",
   "execution_count": 4,
   "id": "0b32c9b6-db6a-42d7-a57d-95e2a546bb0a",
   "metadata": {},
   "outputs": [
    {
     "data": {
      "text/plain": [
       "1"
      ]
     },
     "execution_count": 4,
     "metadata": {},
     "output_type": "execute_result"
    }
   ],
   "source": [
    "modulus = 101 % 2"
   ]
  },
  {
   "cell_type": "code",
   "execution_count": 6,
   "id": "b5722a91-1e2e-4799-9091-97b22855eac8",
   "metadata": {},
   "outputs": [
    {
     "data": {
      "text/plain": [
       "365"
      ]
     },
     "execution_count": 6,
     "metadata": {},
     "output_type": "execute_result"
    }
   ],
   "source": [
    "days = 365"
   ]
  },
  {
   "cell_type": "code",
   "execution_count": 7,
   "id": "2e3e3c82-b336-4978-9de5-d4ace46daba6",
   "metadata": {},
   "outputs": [
    {
     "ename": "LoadError",
     "evalue": "TypeError: non-boolean (Float64) used in boolean context",
     "output_type": "error",
     "traceback": [
      "TypeError: non-boolean (Float64) used in boolean context",
      "",
      "Stacktrace:",
      " [1] top-level scope",
      "   @ In[7]:2"
     ]
    }
   ],
   "source": [
    "@assert days == 365\n",
    "@assert days_float = 365.0"
   ]
  },
  {
   "cell_type": "markdown",
   "id": "caabbc06-ea95-40e3-acb8-283ab0e83ba1",
   "metadata": {},
   "source": [
    "# Strings"
   ]
  },
  {
   "cell_type": "code",
   "execution_count": 8,
   "id": "01e6a3a5-3cee-4b8a-967d-53a32ba8244a",
   "metadata": {},
   "outputs": [
    {
     "data": {
      "text/plain": [
       "Char"
      ]
     },
     "execution_count": 8,
     "metadata": {},
     "output_type": "execute_result"
    }
   ],
   "source": [
    "typeof('a')"
   ]
  },
  {
   "cell_type": "code",
   "execution_count": 9,
   "id": "458ef5a4-4503-4735-ab97-a6de7285cc82",
   "metadata": {},
   "outputs": [
    {
     "data": {
      "text/plain": [
       "\"Here is a string\""
      ]
     },
     "execution_count": 9,
     "metadata": {},
     "output_type": "execute_result"
    }
   ],
   "source": [
    "\"Here is a string\""
   ]
  },
  {
   "cell_type": "code",
   "execution_count": 10,
   "id": "13ab26e8-c823-4e34-9421-57c7a237f725",
   "metadata": {},
   "outputs": [
    {
     "ename": "LoadError",
     "evalue": "ParseError:\n\u001b[90m# Error @ \u001b[0;0m\u001b]8;;file:///Users/samthomas/Documents/Work/Projects/programming-langs/julia/In[10]#1:2\u001b\\\u001b[90mIn[10]:1:2\u001b[0;0m\u001b]8;;\u001b\\\n'\u001b[48;2;120;70;70mthis is not a string\u001b[0;0m'\n\u001b[90m#└──────────────────┘ ── \u001b[0;0m\u001b[91mcharacter literal contains multiple characters\u001b[0;0m",
     "output_type": "error",
     "traceback": [
      "ParseError:\n\u001b[90m# Error @ \u001b[0;0m\u001b]8;;file:///Users/samthomas/Documents/Work/Projects/programming-langs/julia/In[10]#1:2\u001b\\\u001b[90mIn[10]:1:2\u001b[0;0m\u001b]8;;\u001b\\\n'\u001b[48;2;120;70;70mthis is not a string\u001b[0;0m'\n\u001b[90m#└──────────────────┘ ── \u001b[0;0m\u001b[91mcharacter literal contains multiple characters\u001b[0;0m",
      "",
      "Stacktrace:",
      " [1] top-level scope",
      "   @ In[10]:1"
     ]
    }
   ],
   "source": [
    "'this is not a string'"
   ]
  },
  {
   "cell_type": "markdown",
   "id": "b02d446f-1001-41a3-b283-3ff8e101133c",
   "metadata": {},
   "source": [
    "## String Interpolation"
   ]
  },
  {
   "cell_type": "code",
   "execution_count": 12,
   "id": "30532b2b-e19e-4f0c-a0a3-18323325f083",
   "metadata": {},
   "outputs": [
    {
     "name": "stdout",
     "output_type": "stream",
     "text": [
      "Hello, my name is Sam Thomas.\n"
     ]
    }
   ],
   "source": [
    "name = \"Sam Thomas\"\n",
    "println(\"Hello, my name is $name.\")"
   ]
  },
  {
   "cell_type": "markdown",
   "id": "fdc3bc22-2516-45a2-a1cc-f3a9ed8bf4f8",
   "metadata": {},
   "source": [
    "## String concatenation"
   ]
  },
  {
   "cell_type": "code",
   "execution_count": 13,
   "id": "8344eb31-68ff-4c5e-9544-02e758b0e5f8",
   "metadata": {},
   "outputs": [
    {
     "data": {
      "text/plain": [
       "\"How many cats are too many cats ?\""
      ]
     },
     "execution_count": 13,
     "metadata": {},
     "output_type": "execute_result"
    }
   ],
   "source": [
    "string(\"How many cats \", \"are too many cats ?\")"
   ]
  },
  {
   "cell_type": "code",
   "execution_count": 14,
   "id": "0f6169f5-f9a4-4f75-8d61-7271feb6b5f6",
   "metadata": {},
   "outputs": [
    {
     "data": {
      "text/plain": [
       "\"I don't know, but 10 are too few.\""
      ]
     },
     "execution_count": 14,
     "metadata": {},
     "output_type": "execute_result"
    }
   ],
   "source": [
    "string(\"I don't know, but \", 10, \" are too few.\")"
   ]
  },
  {
   "cell_type": "code",
   "execution_count": 15,
   "id": "9460f722-4ae2-4a9b-8ac6-0442ae81f101",
   "metadata": {},
   "outputs": [
    {
     "data": {
      "text/plain": [
       "\"are too many cats ?\""
      ]
     },
     "execution_count": 15,
     "metadata": {},
     "output_type": "execute_result"
    }
   ],
   "source": [
    "s1 = \"How many cats \";\n",
    "s2 =  \"are too many cats ?\""
   ]
  },
  {
   "cell_type": "code",
   "execution_count": 16,
   "id": "45dc6cb9-f78e-4d66-a813-a4c92a706e7e",
   "metadata": {},
   "outputs": [
    {
     "data": {
      "text/plain": [
       "\"How many cats are too many cats ?\""
      ]
     },
     "execution_count": 16,
     "metadata": {},
     "output_type": "execute_result"
    }
   ],
   "source": [
    "s1*s2"
   ]
  },
  {
   "cell_type": "markdown",
   "id": "5c5b315a-d057-4a7b-9275-b24565d29929",
   "metadata": {},
   "source": [
    "# Data structures"
   ]
  },
  {
   "cell_type": "markdown",
   "id": "1d5500ed-2079-48ed-b4d9-675c8d2e2752",
   "metadata": {},
   "source": [
    "Types of data structures:\n",
    "1. Dictionaries\n",
    "2. Tuples\n",
    "3. Arrays"
   ]
  },
  {
   "cell_type": "markdown",
   "id": "d935d117-8e50-4618-a34e-cfe279f7ea26",
   "metadata": {},
   "source": [
    "## Dictionaries"
   ]
  },
  {
   "cell_type": "code",
   "execution_count": 17,
   "id": "4c9048ab-a358-4b71-93e3-25ddff04ef2a",
   "metadata": {},
   "outputs": [
    {
     "data": {
      "text/plain": [
       "Dict{String, String} with 2 entries:\n",
       "  \"Sam\"       => \"235-1287\"\n",
       "  \"Catherine\" => \"239-8866\""
      ]
     },
     "execution_count": 17,
     "metadata": {},
     "output_type": "execute_result"
    }
   ],
   "source": [
    "myphonebook = Dict(\"Sam\" => \"235-1287\", \"Catherine\" => \"239-8866\")"
   ]
  },
  {
   "cell_type": "code",
   "execution_count": 18,
   "id": "a94e4aa6-0d1d-4d18-b9f0-573ae9913398",
   "metadata": {},
   "outputs": [
    {
     "data": {
      "text/plain": [
       "\"487-1275\""
      ]
     },
     "execution_count": 18,
     "metadata": {},
     "output_type": "execute_result"
    }
   ],
   "source": [
    "myphonebook[\"Adlin\"] = \"487-1275\""
   ]
  },
  {
   "cell_type": "code",
   "execution_count": 19,
   "id": "8dc97143-a6b4-45b7-ae84-57213ccdf168",
   "metadata": {},
   "outputs": [
    {
     "data": {
      "text/plain": [
       "Dict{String, String} with 3 entries:\n",
       "  \"Sam\"       => \"235-1287\"\n",
       "  \"Catherine\" => \"239-8866\"\n",
       "  \"Adlin\"     => \"487-1275\""
      ]
     },
     "execution_count": 19,
     "metadata": {},
     "output_type": "execute_result"
    }
   ],
   "source": [
    "myphonebook"
   ]
  },
  {
   "cell_type": "code",
   "execution_count": 20,
   "id": "1593bd12-29b0-4335-aee8-3a578da95ede",
   "metadata": {},
   "outputs": [
    {
     "data": {
      "text/plain": [
       "\"235-1287\""
      ]
     },
     "execution_count": 20,
     "metadata": {},
     "output_type": "execute_result"
    }
   ],
   "source": [
    "myphonebook[\"Sam\"]"
   ]
  },
  {
   "cell_type": "code",
   "execution_count": 21,
   "id": "eef81c8b-7121-46bf-8f03-6697376f7765",
   "metadata": {},
   "outputs": [
    {
     "data": {
      "text/plain": [
       "\"235-1287\""
      ]
     },
     "execution_count": 21,
     "metadata": {},
     "output_type": "execute_result"
    }
   ],
   "source": [
    "pop!(myphonebook, \"Sam\")"
   ]
  },
  {
   "cell_type": "code",
   "execution_count": 22,
   "id": "d35f9d9b-17e1-473f-a99b-3ba843ac2892",
   "metadata": {},
   "outputs": [
    {
     "data": {
      "text/plain": [
       "Dict{String, String} with 2 entries:\n",
       "  \"Catherine\" => \"239-8866\"\n",
       "  \"Adlin\"     => \"487-1275\""
      ]
     },
     "execution_count": 22,
     "metadata": {},
     "output_type": "execute_result"
    }
   ],
   "source": [
    "myphonebook"
   ]
  },
  {
   "cell_type": "markdown",
   "id": "f94978ee-c786-4ab8-84df-a2b758aa547b",
   "metadata": {},
   "source": [
    "## Tuples\n",
    "Tuples are ordered and immutable"
   ]
  },
  {
   "cell_type": "code",
   "execution_count": 23,
   "id": "cceb29a0-73f5-49a7-8e0e-18bcd684c14b",
   "metadata": {},
   "outputs": [
    {
     "data": {
      "text/plain": [
       "(\"penguins\", \"cats\", \"Dogs\")"
      ]
     },
     "execution_count": 23,
     "metadata": {},
     "output_type": "execute_result"
    }
   ],
   "source": [
    "myfavoriteanimals = (\"penguins\", \"cats\", \"Dogs\")"
   ]
  },
  {
   "cell_type": "code",
   "execution_count": 24,
   "id": "ed345ae8-4b63-45cf-8953-6ae4c55fe842",
   "metadata": {},
   "outputs": [
    {
     "data": {
      "text/plain": [
       "\"penguins\""
      ]
     },
     "execution_count": 24,
     "metadata": {},
     "output_type": "execute_result"
    }
   ],
   "source": [
    "myfavoriteanimals[1]"
   ]
  },
  {
   "cell_type": "code",
   "execution_count": 25,
   "id": "58cd2c6a-639a-4185-a4ed-a329e38a47df",
   "metadata": {},
   "outputs": [
    {
     "ename": "LoadError",
     "evalue": "MethodError: no method matching setindex!(::Tuple{String, String, String}, ::String, ::Int64)",
     "output_type": "error",
     "traceback": [
      "MethodError: no method matching setindex!(::Tuple{String, String, String}, ::String, ::Int64)",
      "",
      "Stacktrace:",
      " [1] top-level scope",
      "   @ In[25]:1"
     ]
    }
   ],
   "source": [
    "myfavoriteanimals[1] = \"otters\""
   ]
  },
  {
   "cell_type": "markdown",
   "id": "ea5519ae-fa0a-4dec-95b2-0b1fdc514aed",
   "metadata": {},
   "source": [
    "## Arrays\n",
    "Arrays are mutable and ordered"
   ]
  },
  {
   "cell_type": "code",
   "execution_count": 26,
   "id": "b3550c69-e9b1-426e-9008-781fee8f2f61",
   "metadata": {},
   "outputs": [
    {
     "data": {
      "text/plain": [
       "3-element Vector{String}:\n",
       " \"Achu\"\n",
       " \"Abel\"\n",
       " \"Tanmay\""
      ]
     },
     "execution_count": 26,
     "metadata": {},
     "output_type": "execute_result"
    }
   ],
   "source": [
    "myfriends = [\"Achu\", \"Abel\", \"Tanmay\"]"
   ]
  },
  {
   "cell_type": "code",
   "execution_count": 27,
   "id": "9668b098-b4bc-403c-8913-0e310600e93a",
   "metadata": {},
   "outputs": [
    {
     "data": {
      "text/plain": [
       "4-element Vector{Any}:\n",
       " 1\n",
       " 2\n",
       " 0.3\n",
       "  \"sam\""
      ]
     },
     "execution_count": 27,
     "metadata": {},
     "output_type": "execute_result"
    }
   ],
   "source": [
    "mix = [1, 2, .3, \"sam\"]"
   ]
  },
  {
   "cell_type": "code",
   "execution_count": 28,
   "id": "4628a62c-da25-443a-961a-b6e7d7edb566",
   "metadata": {},
   "outputs": [
    {
     "data": {
      "text/plain": [
       "1"
      ]
     },
     "execution_count": 28,
     "metadata": {},
     "output_type": "execute_result"
    }
   ],
   "source": [
    "mix[1]"
   ]
  },
  {
   "cell_type": "code",
   "execution_count": 29,
   "id": "671eaf6e-6aec-4540-bf7d-3a40e7c8edc3",
   "metadata": {},
   "outputs": [
    {
     "data": {
      "text/plain": [
       "5-element Vector{Any}:\n",
       "  1\n",
       "  2\n",
       "  0.3\n",
       "   \"sam\"\n",
       " 12"
      ]
     },
     "execution_count": 29,
     "metadata": {},
     "output_type": "execute_result"
    }
   ],
   "source": [
    "push!(mix, 12)"
   ]
  },
  {
   "cell_type": "code",
   "execution_count": 30,
   "id": "f993f2df-3ae4-433e-9e01-57f0005f3109",
   "metadata": {},
   "outputs": [
    {
     "data": {
      "text/plain": [
       "\"Tanmay\""
      ]
     },
     "execution_count": 30,
     "metadata": {},
     "output_type": "execute_result"
    }
   ],
   "source": [
    "pop!(myfriends)"
   ]
  },
  {
   "cell_type": "code",
   "execution_count": 31,
   "id": "0177a81a-93c1-453b-aaac-5ae7f7ac21c8",
   "metadata": {},
   "outputs": [
    {
     "data": {
      "text/plain": [
       "2-element Vector{String}:\n",
       " \"Achu\"\n",
       " \"Abel\""
      ]
     },
     "execution_count": 31,
     "metadata": {},
     "output_type": "execute_result"
    }
   ],
   "source": [
    "myfriends"
   ]
  },
  {
   "cell_type": "code",
   "execution_count": 32,
   "id": "d4a721a4-c92c-4794-8161-4c537005c341",
   "metadata": {},
   "outputs": [
    {
     "data": {
      "text/plain": [
       "3-element Vector{Vector{Int64}}:\n",
       " [1, 2, 3]\n",
       " [4, 5]\n",
       " [6, 7, 8, 9]"
      ]
     },
     "execution_count": 32,
     "metadata": {},
     "output_type": "execute_result"
    }
   ],
   "source": [
    "numbers = [[1, 2, 3], [4, 5], [6, 7, 8, 9]]"
   ]
  },
  {
   "cell_type": "code",
   "execution_count": 34,
   "id": "b874556a-e2cd-4fb5-af07-d232043221a1",
   "metadata": {},
   "outputs": [
    {
     "data": {
      "text/plain": [
       "4×3 Matrix{Float64}:\n",
       " 0.476408  0.264229   0.811749\n",
       " 0.357348  0.697529   0.00691742\n",
       " 0.786328  0.0536956  0.144334\n",
       " 0.576455  0.386798   0.84149"
      ]
     },
     "execution_count": 34,
     "metadata": {},
     "output_type": "execute_result"
    }
   ],
   "source": [
    "rand(4, 3) # 4x3 Array"
   ]
  },
  {
   "cell_type": "code",
   "execution_count": 36,
   "id": "539b86ef-0ed8-44ba-9a87-803249d042cd",
   "metadata": {},
   "outputs": [
    {
     "data": {
      "text/plain": [
       "4×3×2 Array{Float64, 3}:\n",
       "[:, :, 1] =\n",
       " 0.771589  0.783896   0.706671\n",
       " 0.051512  0.0280941  0.448814\n",
       " 0.369735  0.856975   0.430243\n",
       " 0.361974  0.0802309  0.285849\n",
       "\n",
       "[:, :, 2] =\n",
       " 0.941849   0.268754  0.0155255\n",
       " 0.294559   0.487958  0.195232\n",
       " 0.0497707  0.486897  0.738166\n",
       " 0.68561    0.992209  0.0931025"
      ]
     },
     "execution_count": 36,
     "metadata": {},
     "output_type": "execute_result"
    }
   ],
   "source": [
    "rand(4, 3, 2) # 4x3x2 Array"
   ]
  },
  {
   "cell_type": "markdown",
   "id": "fa339ec3-3081-4c7e-b19d-5a539819e49f",
   "metadata": {},
   "source": [
    "## Loops"
   ]
  },
  {
   "cell_type": "code",
   "execution_count": 37,
   "id": "4518f011-25a6-4d7d-a569-059494dd56ad",
   "metadata": {},
   "outputs": [
    {
     "name": "stdout",
     "output_type": "stream",
     "text": [
      "1\n",
      "2\n",
      "3\n",
      "4\n",
      "5\n",
      "6\n",
      "7\n",
      "8\n",
      "9\n",
      "10\n"
     ]
    }
   ],
   "source": [
    "n = 0\n",
    "while n < 10\n",
    "    n += 1\n",
    "    println(n)\n",
    "end"
   ]
  },
  {
   "cell_type": "code",
   "execution_count": 38,
   "id": "d9e1baf9-966d-404c-aa8b-f32ce1018375",
   "metadata": {},
   "outputs": [
    {
     "name": "stdout",
     "output_type": "stream",
     "text": [
      "1\n",
      "2\n",
      "3\n",
      "4\n",
      "5\n",
      "6\n",
      "7\n",
      "8\n",
      "9\n",
      "10\n"
     ]
    }
   ],
   "source": [
    "for n in 1:10\n",
    "    println(n)\n",
    "end"
   ]
  },
  {
   "cell_type": "code",
   "execution_count": 39,
   "id": "b8e19f1a-6cbe-4d53-b9f9-00a6e309b822",
   "metadata": {},
   "outputs": [
    {
     "name": "stdout",
     "output_type": "stream",
     "text": [
      "Hi sam, it's great to see you!\n",
      "Hi abel, it's great to see you!\n",
      "Hi achu, it's great to see you!\n",
      "Hi tanmay, it's great to see you!\n"
     ]
    }
   ],
   "source": [
    "myfriends = [\"sam\", \"abel\", \"achu\", \"tanmay\"]\n",
    "for friend in myfriends\n",
    "    println(\"Hi $friend, it's great to see you!\")\n",
    "end"
   ]
  },
  {
   "cell_type": "markdown",
   "id": "34c5f19b-a3b4-4e12-8cca-5932f2fb523e",
   "metadata": {},
   "source": [
    "Note that we can replace `in` with either `=` or `∈`."
   ]
  },
  {
   "cell_type": "code",
   "execution_count": 40,
   "id": "99e6ef0a-786e-4fe2-9509-208b2fc6954d",
   "metadata": {},
   "outputs": [
    {
     "name": "stdout",
     "output_type": "stream",
     "text": [
      "1\n",
      "2\n",
      "3\n",
      "4\n",
      "5\n",
      "6\n",
      "7\n",
      "8\n",
      "9\n",
      "10\n"
     ]
    }
   ],
   "source": [
    "for n = 1:10\n",
    "    println(n)\n",
    "end"
   ]
  },
  {
   "cell_type": "code",
   "execution_count": 41,
   "id": "2009dd68-995c-4822-bbcf-45e16aea0636",
   "metadata": {},
   "outputs": [
    {
     "name": "stdout",
     "output_type": "stream",
     "text": [
      "1\n",
      "2\n",
      "3\n",
      "4\n",
      "5\n",
      "6\n",
      "7\n",
      "8\n",
      "9\n",
      "10\n"
     ]
    }
   ],
   "source": [
    "for n ∈ 1:10\n",
    "    println(n)\n",
    "end"
   ]
  },
  {
   "cell_type": "markdown",
   "id": "082ce871-8b50-408b-b90a-b0ac9b8f22c4",
   "metadata": {},
   "source": [
    "`for` loops to create some addtional tables, Where the value of every entry is the sum of it's row and column indices.\n",
    "\n",
    "First, we initialize an array with zeros."
   ]
  },
  {
   "cell_type": "code",
   "execution_count": 42,
   "id": "ec590a74-fe4b-45f1-9e47-8a694e278c5f",
   "metadata": {},
   "outputs": [
    {
     "data": {
      "text/plain": [
       "5×5 Matrix{Float64}:\n",
       " 0.0  0.0  0.0  0.0  0.0\n",
       " 0.0  0.0  0.0  0.0  0.0\n",
       " 0.0  0.0  0.0  0.0  0.0\n",
       " 0.0  0.0  0.0  0.0  0.0\n",
       " 0.0  0.0  0.0  0.0  0.0"
      ]
     },
     "execution_count": 42,
     "metadata": {},
     "output_type": "execute_result"
    }
   ],
   "source": [
    "m, n = 5, 5\n",
    "A = zeros(m, n)"
   ]
  },
  {
   "cell_type": "code",
   "execution_count": 46,
   "id": "be28b495-b617-4b0a-8a1b-688d88794bf6",
   "metadata": {},
   "outputs": [
    {
     "data": {
      "text/plain": [
       "5×5 Matrix{Float64}:\n",
       " 2.0  3.0  4.0  5.0   6.0\n",
       " 3.0  4.0  5.0  6.0   7.0\n",
       " 4.0  5.0  6.0  7.0   8.0\n",
       " 5.0  6.0  7.0  8.0   9.0\n",
       " 6.0  7.0  8.0  9.0  10.0"
      ]
     },
     "execution_count": 46,
     "metadata": {},
     "output_type": "execute_result"
    }
   ],
   "source": [
    "for i in 1:m\n",
    "    for j in 1:n\n",
    "        A[i, j] = i + j\n",
    "    end\n",
    "end\n",
    "A"
   ]
  },
  {
   "cell_type": "markdown",
   "id": "806757da-7887-46bb-b7c7-b1d5f2e4c8bd",
   "metadata": {},
   "source": [
    "Syntax sugar for nested for loops."
   ]
  },
  {
   "cell_type": "code",
   "execution_count": 47,
   "id": "a6602297-189c-40ac-b31e-82cc7b6464a6",
   "metadata": {},
   "outputs": [
    {
     "data": {
      "text/plain": [
       "5×5 Matrix{Float64}:\n",
       " 2.0  3.0  4.0  5.0   6.0\n",
       " 3.0  4.0  5.0  6.0   7.0\n",
       " 4.0  5.0  6.0  7.0   8.0\n",
       " 5.0  6.0  7.0  8.0   9.0\n",
       " 6.0  7.0  8.0  9.0  10.0"
      ]
     },
     "execution_count": 47,
     "metadata": {},
     "output_type": "execute_result"
    }
   ],
   "source": [
    "B = zeros(m, n)\n",
    "for i in 1:m, j in 1:n\n",
    "    B[i, j] = i + j\n",
    "end\n",
    "B"
   ]
  },
  {
   "cell_type": "markdown",
   "id": "110acebf-ff4c-42c6-8e1e-32a6656d8c44",
   "metadata": {},
   "source": [
    "The more \"Julia\" way to create this addition table would have been with an _array comprehension._"
   ]
  },
  {
   "cell_type": "code",
   "execution_count": 48,
   "id": "223dd6fd-2f77-42f7-987d-93f577d4f11f",
   "metadata": {},
   "outputs": [
    {
     "data": {
      "text/plain": [
       "5×5 Matrix{Int64}:\n",
       " 2  3  4  5   6\n",
       " 3  4  5  6   7\n",
       " 4  5  6  7   8\n",
       " 5  6  7  8   9\n",
       " 6  7  8  9  10"
      ]
     },
     "execution_count": 48,
     "metadata": {},
     "output_type": "execute_result"
    }
   ],
   "source": [
    "C = [i + j for i in 1:m, j in 1:n]"
   ]
  }
 ],
 "metadata": {
  "kernelspec": {
   "display_name": "Julia 1.10.1",
   "language": "julia",
   "name": "julia-1.10"
  },
  "language_info": {
   "file_extension": ".jl",
   "mimetype": "application/julia",
   "name": "julia",
   "version": "1.10.1"
  }
 },
 "nbformat": 4,
 "nbformat_minor": 5
}
