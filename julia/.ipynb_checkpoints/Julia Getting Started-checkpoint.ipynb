{
 "cells": [
  {
   "cell_type": "markdown",
   "id": "9ea17ea7-ffbc-4465-99e6-24ed0f4f6a88",
   "metadata": {},
   "source": [
    "# Getting started\n",
    "Basics of Julia programming language. "
   ]
  },
  {
   "cell_type": "markdown",
   "id": "489bcef8-cc48-4f33-93a1-3ff90d84fbfa",
   "metadata": {},
   "source": [
    "## Printing a string\n",
    "We can use `println()` to print variables"
   ]
  },
  {
   "cell_type": "code",
   "execution_count": 3,
   "id": "d84bc383-3f56-42cc-b417-498a4fc2bcde",
   "metadata": {},
   "outputs": [
    {
     "name": "stdout",
     "output_type": "stream",
     "text": [
      "Hello World\n"
     ]
    }
   ],
   "source": [
    "println(\"Hello World\")"
   ]
  },
  {
   "cell_type": "markdown",
   "id": "ef5cd210-82b3-4720-970b-3897f0b14885",
   "metadata": {},
   "source": [
    "## How to assign variables\n",
    "All we need is a variable name, value, and an equal's sign! Julia is dynamically typed."
   ]
  },
  {
   "cell_type": "code",
   "execution_count": 5,
   "id": "e6a1e0ba-9f76-42ef-af97-661ff0c4eafe",
   "metadata": {},
   "outputs": [
    {
     "data": {
      "text/plain": [
       "Int64"
      ]
     },
     "execution_count": 5,
     "metadata": {},
     "output_type": "execute_result"
    }
   ],
   "source": [
    "my_answer = 42\n",
    "typeof(my_answer)"
   ]
  },
  {
   "cell_type": "code",
   "execution_count": 6,
   "id": "4b472c86-b1ca-45ed-97f1-66062f452c05",
   "metadata": {},
   "outputs": [
    {
     "data": {
      "text/plain": [
       "Float64"
      ]
     },
     "execution_count": 6,
     "metadata": {},
     "output_type": "execute_result"
    }
   ],
   "source": [
    "my_pi = 3.14159\n",
    "typeof(my_pi)"
   ]
  },
  {
   "cell_type": "code",
   "execution_count": 7,
   "id": "d8929ebc-61ad-49f6-b198-e7ee911afc97",
   "metadata": {},
   "outputs": [
    {
     "data": {
      "text/plain": [
       "String"
      ]
     },
     "execution_count": 7,
     "metadata": {},
     "output_type": "execute_result"
    }
   ],
   "source": [
    "😸 = \"smiley cat!\"\n",
    "typeof(😸)"
   ]
  },
  {
   "cell_type": "markdown",
   "id": "cb8a4075-f482-457a-b14b-79e0b1601d8d",
   "metadata": {},
   "source": [
    "To type a smiley cat, use tab competion to select the emoji name and then tab again."
   ]
  },
  {
   "cell_type": "code",
   "execution_count": null,
   "id": "7cb7e5f5-3328-4cdc-a59b-377086623312",
   "metadata": {},
   "outputs": [],
   "source": [
    "# \\:smi + <tab> --> select with down arrow + <enter> ---> <tab> + <enter> to complete"
   ]
  },
  {
   "cell_type": "markdown",
   "id": "aaeee061-cc22-4585-972e-ab77e661fa8f",
   "metadata": {},
   "source": [
    "After assigning a value to a variable, we can reassign a value of a different type to that variable without any issue."
   ]
  },
  {
   "cell_type": "code",
   "execution_count": 8,
   "id": "93590151-debd-43d4-b6af-0caaa8883d01",
   "metadata": {},
   "outputs": [
    {
     "data": {
      "text/plain": [
       "Int64"
      ]
     },
     "execution_count": 8,
     "metadata": {},
     "output_type": "execute_result"
    }
   ],
   "source": [
    "😸 = 1\n",
    "typeof(😸)"
   ]
  },
  {
   "cell_type": "markdown",
   "id": "ee347bf2-3702-4f31-b689-f018c8f1299f",
   "metadata": {},
   "source": [
    "## How to comment"
   ]
  },
  {
   "cell_type": "code",
   "execution_count": 9,
   "id": "0a38ce2c-df4c-422f-a0c0-d23a187304f3",
   "metadata": {},
   "outputs": [],
   "source": [
    "# You can leave comments on a single line using the pound/hash key"
   ]
  },
  {
   "cell_type": "code",
   "execution_count": 10,
   "id": "72772921-6a4a-40c8-8b0f-71ba9b83515f",
   "metadata": {},
   "outputs": [],
   "source": [
    "#=\n",
    "\n",
    "For multi-line comments\n",
    "use the '#= =#' sequence.\n",
    "\n",
    "=#"
   ]
  },
  {
   "cell_type": "markdown",
   "id": "13f28fa8-983e-48cc-8779-ff081d947b95",
   "metadata": {},
   "source": [
    "## Syntax for basic math"
   ]
  },
  {
   "cell_type": "code",
   "execution_count": 11,
   "id": "31852c45-927a-4827-ab09-19f0116731a4",
   "metadata": {},
   "outputs": [
    {
     "data": {
      "text/plain": [
       "10"
      ]
     },
     "execution_count": 11,
     "metadata": {},
     "output_type": "execute_result"
    }
   ],
   "source": [
    "sum = 3 + 7"
   ]
  }
 ],
 "metadata": {
  "kernelspec": {
   "display_name": "Julia 1.10.1",
   "language": "julia",
   "name": "julia-1.10"
  },
  "language_info": {
   "file_extension": ".jl",
   "mimetype": "application/julia",
   "name": "julia",
   "version": "1.10.1"
  }
 },
 "nbformat": 4,
 "nbformat_minor": 5
}
